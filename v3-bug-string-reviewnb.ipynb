{
 "cells": [
  {
   "cell_type": "code",
   "execution_count": 1,
   "metadata": {},
   "outputs": [
    {
     "name": "stdout",
     "output_type": "stream",
     "text": [
      "\n",
      "    select name\n",
      "    from table\n",
      "    where app_id = 'test_id'\n",
      "    and event_time > 20200310\n",
      "    group by 1\n",
      "    \n",
      "101\n"
     ]
    }
   ],
   "source": [
    "import datetime\n",
    "app_id = 'test_id'\n",
    "sql = \"\"\"\n",
    "    select name\n",
    "    from table\n",
    "    where app_id = '{app_id}'\n",
    "    and event_time > {datetime.datetime.now().strftime('%Y%m%d')}\n",
    "    group by 1\n",
    "    \"\"\"\n",
    "    \n",
    "print(sql)\n",
    "a = 100\n",
    "a = a + 1\n",
    "print(a)"
   ]
  },
  {
   "cell_type": "code",
   "execution_count": null,
   "metadata": {},
   "outputs": [],
   "source": [
    "u'abc' + foo\n",
    "f'abc' + foo"
   ]
  }
 ],
 "metadata": {
  "kernelspec": {
   "display_name": "Python 3",
   "language": "python",
   "name": "python3"
  },
  "language_info": {
   "codemirror_mode": {
    "name": "ipython",
    "version": 3
   },
   "file_extension": ".py",
   "mimetype": "text/x-python",
   "name": "python",
   "nbconvert_exporter": "python",
   "pygments_lexer": "ipython3",
   "version": "3.6.8"
  }
 },
 "nbformat": 4,
 "nbformat_minor": 1
}
