{
 "cells": [
  {
   "cell_type": "markdown",
   "metadata": {},
   "source": [
    "[amitrathi@MacBook-Pro-3 PythonDataScienceHandbook (v7)]$ \n",
    "[amitrathi@MacBook-Pro-3 PythonDataScienceHandbook (v7)]$ \n",
    "[amitrathi@MacBook-Pro-3 PythonDataScienceHandbook (v7)]$ gcm \"Added a new nb\"\n",
    "[v7 980e8c26] Added a new nb\n",
    " 1 file changed, 65 insertions(+)\n",
    " create mode 100644 03.09-Pivot-Tables.ipynb\n",
    "[amitrathi@MacBook-Pro-3 PythonDataScienceHandbook (v7)]$ \n",
    "[amitrathi@MacBook-Pro-3 PythonDataScienceHandbook (v7)]$ \n",
    "[amitrathi@MacBook-Pro-3 PythonDataScienceHandbook (v7)]$ git push\n",
    "fatal: The current branch v7 has no upstream branch.\n",
    "To push the current branch and set the remote as upstream, use\n",
    "\n",
    "    git push --set-upstream origin v7\n",
    "\n",
    "[amitrathi@MacBook-Pro-3 PythonDataScienceHandbook (v7)]$ git remote -v\n",
    "origin\thttps://github.com/amit1rrr/PythonDataScienceHandbook.git (fetch)\n",
    "origin\thttps://github.com/amit1rrr/PythonDataScienceHandbook.git (push)\n",
    "upstream\thttps://github.com/tensorflow/docs.git (fetch)\n",
    "upstream\thttps://github.com/tensorflow/docs.git (push)\n",
    "[amitrathi@MacBook-Pro-3 PythonDataScienceHandbook (v7)]$ git remote set-url origin https://github.com/amit1rrr/PythonDataScienceHandbook.git\n",
    "[amitrathi@MacBook-Pro-3 PythonDataScienceHandbook (v7)]$ \n",
    "[amitrathi@MacBook-Pro-3 PythonDataScienceHandbook (v7)]$ \n",
    "[amitrathi@MacBook-Pro-3 PythonDataScienceHandbook (v7)]$ git remote -v\n",
    "origin\thttps://github.com/amit1rrr/PythonDataScienceHandbook.git (fetch)\n",
    "origin\thttps://github.com/amit1rrr/PythonDataScienceHandbook.git (push)\n",
    "upstream\thttps://github.com/tensorflow/docs.git (fetch)\n",
    "upstream\thttps://github.com/tensorflow/docs.git (push)\n",
    "[amitrathi@MacBook-Pro-3 PythonDataScienceHandbook (v7)]$ git remote set-url upstream https://github.com/amit1rrr/PythonDataScienceHandbook.git\n",
    "[amitrathi@MacBook-Pro-3 PythonDataScienceHandbook (v7)]$ \n",
    "[amitrathi@MacBook-Pro-3 PythonDataScienceHandbook (v7)]$ \n",
    "[amitrathi@MacBook-Pro-3 PythonDataScienceHandbook (v7)]$ gs\n",
    "On branch v7\n",
    "Untracked files:\n",
    "  (use \"git add <file>...\" to include in what will be committed)\n"
   ]
  },
  {
   "cell_type": "code",
   "execution_count": null,
   "metadata": {},
   "outputs": [],
   "source": []
  }
 ],
 "metadata": {
  "kernelspec": {
   "display_name": "Python 3",
   "language": "python",
   "name": "python3"
  },
  "language_info": {
   "codemirror_mode": {
    "name": "ipython",
    "version": 3
   },
   "file_extension": ".py",
   "mimetype": "text/x-python",
   "name": "python",
   "nbconvert_exporter": "python",
   "pygments_lexer": "ipython3",
   "version": "3.6.8"
  }
 },
 "nbformat": 4,
 "nbformat_minor": 2
}
