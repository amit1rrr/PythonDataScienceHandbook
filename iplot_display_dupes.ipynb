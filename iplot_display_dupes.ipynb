{
 "cells": [
  {
   "cell_type": "code",
   "execution_count": 1,
   "metadata": {},
   "outputs": [],
   "source": [
    "import ipywidgets\n",
    "import plotly.graph_objs as go\n",
    "from plotly.offline import iplot"
   ]
  },
  {
   "cell_type": "code",
   "execution_count": 2,
   "metadata": {},
   "outputs": [
    {
     "data": {
      "application/vnd.plotly.v1+json": {
       "config": {
        "linkText": "Export to plot.ly",
        "plotlyServerURL": "https://plot.ly",
        "showLink": false
       },
       "data": [
        {
         "orientation": "h",
         "type": "bar",
         "uid": "a72b34d2-0024-4ead-ad82-7e7d2af7f6ea",
         "x": [
          0,
          1,
          2,
          3,
          4
         ],
         "y": [
          0,
          1,
          2,
          3,
          4
         ]
        }
       ],
       "layout": {
        "autosize": true,
        "bargap": 0.1,
        "hovermode": "y",
        "margin": {
         "l": 200,
         "t": 35
        },
        "template": {
         "data": {
          "bar": [
           {
            "marker": {
             "line": {
              "color": "rgb(237,237,237)",
              "width": 0.5
             }
            },
            "type": "bar"
           }
          ],
          "barpolar": [
           {
            "marker": {
             "line": {
              "color": "rgb(237,237,237)",
              "width": 0.5
             }
            },
            "type": "barpolar"
           }
          ],
          "carpet": [
           {
            "aaxis": {
             "endlinecolor": "rgb(51,51,51)",
             "gridcolor": "white",
             "linecolor": "white",
             "minorgridcolor": "white",
             "startlinecolor": "rgb(51,51,51)"
            },
            "baxis": {
             "endlinecolor": "rgb(51,51,51)",
             "gridcolor": "white",
             "linecolor": "white",
             "minorgridcolor": "white",
             "startlinecolor": "rgb(51,51,51)"
            },
            "type": "carpet"
           }
          ],
          "choropleth": [
           {
            "colorbar": {
             "outlinewidth": 0,
             "tickcolor": "rgb(237,237,237)",
             "ticklen": 6,
             "ticks": "inside"
            },
            "type": "choropleth"
           }
          ],
          "contour": [
           {
            "autocolorscale": true,
            "colorbar": {
             "outlinewidth": 0,
             "tickcolor": "rgb(237,237,237)",
             "ticklen": 6,
             "ticks": "inside"
            },
            "type": "contour"
           }
          ],
          "contourcarpet": [
           {
            "colorbar": {
             "outlinewidth": 0,
             "tickcolor": "rgb(237,237,237)",
             "ticklen": 6,
             "ticks": "inside"
            },
            "type": "contourcarpet"
           }
          ],
          "heatmap": [
           {
            "autocolorscale": true,
            "colorbar": {
             "outlinewidth": 0,
             "tickcolor": "rgb(237,237,237)",
             "ticklen": 6,
             "ticks": "inside"
            },
            "type": "heatmap"
           }
          ],
          "heatmapgl": [
           {
            "colorbar": {
             "outlinewidth": 0,
             "tickcolor": "rgb(237,237,237)",
             "ticklen": 6,
             "ticks": "inside"
            },
            "type": "heatmapgl"
           }
          ],
          "histogram": [
           {
            "marker": {
             "colorbar": {
              "outlinewidth": 0,
              "tickcolor": "rgb(237,237,237)",
              "ticklen": 6,
              "ticks": "inside"
             }
            },
            "type": "histogram"
           }
          ],
          "histogram2d": [
           {
            "autocolorscale": true,
            "colorbar": {
             "outlinewidth": 0,
             "tickcolor": "rgb(237,237,237)",
             "ticklen": 6,
             "ticks": "inside"
            },
            "type": "histogram2d"
           }
          ],
          "histogram2dcontour": [
           {
            "autocolorscale": true,
            "colorbar": {
             "outlinewidth": 0,
             "tickcolor": "rgb(237,237,237)",
             "ticklen": 6,
             "ticks": "inside"
            },
            "type": "histogram2dcontour"
           }
          ],
          "mesh3d": [
           {
            "colorbar": {
             "outlinewidth": 0,
             "tickcolor": "rgb(237,237,237)",
             "ticklen": 6,
             "ticks": "inside"
            },
            "type": "mesh3d"
           }
          ],
          "parcoords": [
           {
            "line": {
             "colorbar": {
              "outlinewidth": 0,
              "tickcolor": "rgb(237,237,237)",
              "ticklen": 6,
              "ticks": "inside"
             }
            },
            "type": "parcoords"
           }
          ],
          "scatter": [
           {
            "marker": {
             "colorbar": {
              "outlinewidth": 0,
              "tickcolor": "rgb(237,237,237)",
              "ticklen": 6,
              "ticks": "inside"
             }
            },
            "type": "scatter"
           }
          ],
          "scatter3d": [
           {
            "marker": {
             "colorbar": {
              "outlinewidth": 0,
              "tickcolor": "rgb(237,237,237)",
              "ticklen": 6,
              "ticks": "inside"
             }
            },
            "type": "scatter3d"
           }
          ],
          "scattercarpet": [
           {
            "marker": {
             "colorbar": {
              "outlinewidth": 0,
              "tickcolor": "rgb(237,237,237)",
              "ticklen": 6,
              "ticks": "inside"
             }
            },
            "type": "scattercarpet"
           }
          ],
          "scattergeo": [
           {
            "marker": {
             "colorbar": {
              "outlinewidth": 0,
              "tickcolor": "rgb(237,237,237)",
              "ticklen": 6,
              "ticks": "inside"
             }
            },
            "type": "scattergeo"
           }
          ],
          "scattergl": [
           {
            "marker": {
             "colorbar": {
              "outlinewidth": 0,
              "tickcolor": "rgb(237,237,237)",
              "ticklen": 6,
              "ticks": "inside"
             }
            },
            "type": "scattergl"
           }
          ],
          "scattermapbox": [
           {
            "marker": {
             "colorbar": {
              "outlinewidth": 0,
              "tickcolor": "rgb(237,237,237)",
              "ticklen": 6,
              "ticks": "inside"
             }
            },
            "type": "scattermapbox"
           }
          ],
          "scatterpolar": [
           {
            "marker": {
             "colorbar": {
              "outlinewidth": 0,
              "tickcolor": "rgb(237,237,237)",
              "ticklen": 6,
              "ticks": "inside"
             }
            },
            "type": "scatterpolar"
           }
          ],
          "scatterpolargl": [
           {
            "marker": {
             "colorbar": {
              "outlinewidth": 0,
              "tickcolor": "rgb(237,237,237)",
              "ticklen": 6,
              "ticks": "inside"
             }
            },
            "type": "scatterpolargl"
           }
          ],
          "scatterternary": [
           {
            "marker": {
             "colorbar": {
              "outlinewidth": 0,
              "tickcolor": "rgb(237,237,237)",
              "ticklen": 6,
              "ticks": "inside"
             }
            },
            "type": "scatterternary"
           }
          ],
          "surface": [
           {
            "colorbar": {
             "outlinewidth": 0,
             "tickcolor": "rgb(237,237,237)",
             "ticklen": 6,
             "ticks": "inside"
            },
            "type": "surface"
           }
          ],
          "table": [
           {
            "cells": {
             "fill": {
              "color": "rgb(237,237,237)"
             },
             "line": {
              "color": "white"
             }
            },
            "header": {
             "fill": {
              "color": "rgb(217,217,217)"
             },
             "line": {
              "color": "white"
             }
            },
            "type": "table"
           }
          ]
         },
         "layout": {
          "annotationdefaults": {
           "arrowhead": 0,
           "arrowwidth": 1
          },
          "colorscale": {
           "sequential": [
            [
             0,
             "rgb(20,44,66)"
            ],
            [
             1,
             "rgb(90,179,244)"
            ]
           ],
           "sequentialminus": [
            [
             0,
             "rgb(20,44,66)"
            ],
            [
             1,
             "rgb(90,179,244)"
            ]
           ]
          },
          "colorway": [
           "#F8766D",
           "#A3A500",
           "#00BF7D",
           "#00B0F6",
           "#E76BF3"
          ],
          "font": {
           "color": "rgb(51,51,51)"
          },
          "geo": {
           "bgcolor": "white",
           "lakecolor": "white",
           "landcolor": "rgb(237,237,237)",
           "showlakes": true,
           "showland": true,
           "subunitcolor": "white"
          },
          "hovermode": "closest",
          "paper_bgcolor": "white",
          "plot_bgcolor": "rgb(237,237,237)",
          "polar": {
           "angularaxis": {
            "gridcolor": "white",
            "linecolor": "white",
            "showgrid": true,
            "tickcolor": "rgb(51,51,51)",
            "ticks": "outside"
           },
           "bgcolor": "rgb(237,237,237)",
           "radialaxis": {
            "gridcolor": "white",
            "linecolor": "white",
            "showgrid": true,
            "tickcolor": "rgb(51,51,51)",
            "ticks": "outside"
           }
          },
          "scene": {
           "xaxis": {
            "backgroundcolor": "rgb(237,237,237)",
            "gridcolor": "white",
            "gridwidth": 2,
            "linecolor": "white",
            "showbackground": true,
            "showgrid": true,
            "tickcolor": "rgb(51,51,51)",
            "ticks": "outside",
            "zerolinecolor": "white"
           },
           "yaxis": {
            "backgroundcolor": "rgb(237,237,237)",
            "gridcolor": "white",
            "gridwidth": 2,
            "linecolor": "white",
            "showbackground": true,
            "showgrid": true,
            "tickcolor": "rgb(51,51,51)",
            "ticks": "outside",
            "zerolinecolor": "white"
           },
           "zaxis": {
            "backgroundcolor": "rgb(237,237,237)",
            "gridcolor": "white",
            "gridwidth": 2,
            "linecolor": "white",
            "showbackground": true,
            "showgrid": true,
            "tickcolor": "rgb(51,51,51)",
            "ticks": "outside",
            "zerolinecolor": "white"
           }
          },
          "shapedefaults": {
           "fillcolor": "black",
           "line": {
            "width": 0
           },
           "opacity": 0.3
          },
          "ternary": {
           "aaxis": {
            "gridcolor": "white",
            "linecolor": "white",
            "showgrid": true,
            "tickcolor": "rgb(51,51,51)",
            "ticks": "outside"
           },
           "baxis": {
            "gridcolor": "white",
            "linecolor": "white",
            "showgrid": true,
            "tickcolor": "rgb(51,51,51)",
            "ticks": "outside"
           },
           "bgcolor": "rgb(237,237,237)",
           "caxis": {
            "gridcolor": "white",
            "linecolor": "white",
            "showgrid": true,
            "tickcolor": "rgb(51,51,51)",
            "ticks": "outside"
           }
          },
          "xaxis": {
           "automargin": true,
           "gridcolor": "white",
           "linecolor": "white",
           "showgrid": true,
           "tickcolor": "rgb(51,51,51)",
           "ticks": "outside",
           "zerolinecolor": "white"
          },
          "yaxis": {
           "automargin": true,
           "gridcolor": "white",
           "linecolor": "white",
           "showgrid": true,
           "tickcolor": "rgb(51,51,51)",
           "ticks": "outside",
           "zerolinecolor": "white"
          }
         }
        },
        "xaxis": {
         "autorange": true,
         "range": [
          -0.033447777295997905,
          0.6355077686239602
         ],
         "title": {
          "text": "log"
         },
         "type": "log"
        },
        "yaxis": {
         "autorange": true,
         "range": [
          -0.5,
          4.5
         ],
         "type": "linear"
        }
       }
      },
      "image/png": "[encoded data removed]"
     },
     "metadata": {},
     "output_type": "display_data"
    },
    {
     "data": {
      "application/vnd.jupyter.widget-view+json": {
       "model_id": "ea5ba89835034a248324a2c62e0948f2",
       "version_major": 2,
       "version_minor": 0
      },
      "text/plain": [
       "Checkbox(value=False, description='%')"
      ]
     },
     "metadata": {},
     "output_type": "display_data"
    }
   ],
   "source": [
    "data = [go.Bar(x=[i for i in range(5)], y=[i for i in range(5)], orientation=\"h\")]\n",
    "layout = go.Layout(\n",
    "    bargap=0.1,\n",
    "    xaxis=go.layout.XAxis(type=\"log\", title=\"log\"),\n",
    "    template=\"ggplot2\",\n",
    "    hovermode=\"y\",\n",
    "    margin=dict(l=200, t=35),\n",
    ")\n",
    "iplot(go.Figure(data, layout))\n",
    "\n",
    "c = ipywidgets.Checkbox(description=\"%\", value=False)\n",
    "display(c)\n"
   ]
  },
  {
   "cell_type": "code",
   "execution_count": 3,
   "metadata": {},
   "outputs": [
    {
     "name": "stdout",
     "output_type": "stream",
     "text": [
      "plotly                            3.7.1   \n",
      "ipython                           7.4.0   \n",
      "ipython-genutils                  0.2.0   \n"
     ]
    }
   ],
   "source": [
    "!pip list installed | grep plotly\n",
    "!pip list installed | grep ipython"
   ]
  },
  {
   "cell_type": "code",
   "execution_count": 5,
   "metadata": {},
   "outputs": [
    {
     "name": "stdout",
     "output_type": "stream",
     "text": [
      "JupyterLab v0.35.4\n",
      "Known labextensions:\n",
      "   app dir: /Users/valery/.local/share/virtualenvs/arche-lm24e12g/share/jupyter/lab\n",
      "        @jupyter-widgets/jupyterlab-manager v0.38.1 \u001b[32m enabled \u001b[0m \u001b[32mOK\u001b[0m\n",
      "        @jupyterlab/plotly-extension v0.18.2 \u001b[32m enabled \u001b[0m \u001b[32mOK\u001b[0m\n",
      "        plotlywidget v0.8.0 \u001b[32m enabled \u001b[0m \u001b[32mOK\u001b[0m\n"
     ]
    }
   ],
   "source": [
    "!jupyter labextension list"
   ]
  },
  {
   "cell_type": "code",
   "execution_count": 4,
   "metadata": {},
   "outputs": [
    {
     "name": "stdout",
     "output_type": "stream",
     "text": [
      "Package                           Version \n",
      "--------------------------------- --------\n",
      "alabaster                         0.7.12  \n",
      "appdirs                           1.4.3   \n",
      "appnope                           0.1.0   \n",
      "atomicwrites                      1.3.0   \n",
      "attrs                             19.1.0  \n",
      "Babel                             2.6.0   \n",
      "backcall                          0.1.0   \n",
      "black                             19.3b0  \n",
      "bleach                            3.1.0   \n",
      "boto3                             1.9.126 \n",
      "botocore                          1.12.126\n",
      "bumpversion                       0.5.3   \n",
      "certifi                           2019.3.9\n",
      "chardet                           3.0.4   \n",
      "Click                             7.0     \n",
      "codecov                           2.0.15  \n",
      "colorama                          0.4.1   \n",
      "colorlover                        0.3.0   \n",
      "commonmark                        0.8.1   \n",
      "coverage                          4.5.3   \n",
      "cufflinks                         0.15    \n",
      "decorator                         4.4.0   \n",
      "defusedxml                        0.5.0   \n",
      "docutils                          0.14    \n",
      "entrypoints                       0.3     \n",
      "fastjsonschema                    2.9     \n",
      "filelock                          3.0.10  \n",
      "flake8                            3.7.7   \n",
      "flake8-bugbear                    19.3.0  \n",
      "flake8-import-order               0.18.1  \n",
      "future                            0.17.1  \n",
      "genson                            1.0.2   \n",
      "idna                              2.8     \n",
      "imagesize                         1.1.0   \n",
      "ipykernel                         5.1.0   \n",
      "ipython                           7.4.0   \n",
      "ipython-genutils                  0.2.0   \n",
      "ipywidgets                        7.4.2   \n",
      "jedi                              0.13.3  \n",
      "Jinja2                            2.10    \n",
      "jmespath                          0.9.4   \n",
      "jsonpointer                       2.0     \n",
      "jsonschema                        3.0.1   \n",
      "jupyter-client                    5.2.4   \n",
      "jupyter-console                   6.0.0   \n",
      "jupyter-contrib-core              0.3.3   \n",
      "jupyter-core                      4.4.0   \n",
      "jupyter-nbextensions-configurator 0.4.1   \n",
      "jupyterlab                        0.35.4  \n",
      "jupyterlab-server                 0.2.0   \n",
      "livereload                        2.6.0   \n",
      "Markdown                          3.0.1   \n",
      "MarkupSafe                        1.1.1   \n",
      "mccabe                            0.6.1   \n",
      "mistune                           0.8.4   \n",
      "mkdocs                            1.0.4   \n",
      "more-itertools                    7.0.0   \n",
      "msgpack-python                    0.5.6   \n",
      "nbconvert                         5.4.1   \n",
      "nbformat                          4.4.0   \n",
      "nbsphinx                          0.4.2   \n",
      "nose                              1.3.7   \n",
      "notebook                          5.7.8   \n",
      "numpy                             1.16.2  \n",
      "packaging                         19.0    \n",
      "pandas                            0.24.2  \n",
      "pandocfilters                     1.4.2   \n",
      "parso                             0.3.4   \n",
      "pbr                               5.1.3   \n",
      "perfect-jsonschema                2019.2.6\n",
      "pexpect                           4.6.0   \n",
      "pickleshare                       0.7.5   \n",
      "pip                               19.0.3  \n",
      "plotly                            3.7.1   \n",
      "pluggy                            0.9.0   \n",
      "ply                               3.11    \n",
      "prometheus-client                 0.6.0   \n",
      "prompt-toolkit                    2.0.9   \n",
      "ptyprocess                        0.6.0   \n",
      "pudb                              2018.1  \n",
      "py                                1.8.0   \n",
      "pycodestyle                       2.5.0   \n",
      "pydoc-markdown                    2.0.5   \n",
      "pyflakes                          2.1.1   \n",
      "Pygments                          2.3.1   \n",
      "pypandoc                          1.4     \n",
      "pyparsing                         2.3.1   \n",
      "pyrsistent                        0.14.11 \n",
      "pytest                            4.4.0   \n",
      "pytest-cov                        2.6.1   \n",
      "pytest-mock                       1.10.3  \n",
      "pytest-pudb                       0.7.0   \n",
      "pytest-pythonpath                 0.7.3   \n",
      "python-dateutil                   2.8.0   \n",
      "pytz                              2018.9  \n",
      "PyYAML                            5.1     \n",
      "pyzmq                             18.0.1  \n",
      "recommonmark                      0.5.0   \n",
      "requests                          2.21.0  \n",
      "retrying                          1.3.3   \n",
      "rfc3987                           1.3.8   \n",
      "s3transfer                        0.2.0   \n",
      "scrapinghub                       2.1.0   \n",
      "Send2Trash                        1.5.0   \n",
      "setuptools                        40.8.0  \n",
      "six                               1.12.0  \n",
      "snowballstemmer                   1.2.1   \n",
      "Sphinx                            2.0.0   \n",
      "sphinx-rtd-theme                  0.4.3   \n",
      "sphinxcontrib-apidoc              0.3.0   \n",
      "sphinxcontrib-applehelp           1.0.1   \n",
      "sphinxcontrib-devhelp             1.0.1   \n",
      "sphinxcontrib-htmlhelp            1.0.1   \n",
      "sphinxcontrib-jsmath              1.0.1   \n",
      "sphinxcontrib-qthelp              1.0.2   \n",
      "sphinxcontrib-serializinghtml     1.1.1   \n",
      "sphinxcontrib-websupport          1.1.0   \n",
      "strict-rfc3339                    0.7     \n",
      "terminado                         0.8.2   \n",
      "testpath                          0.4.2   \n",
      "toml                              0.10.0  \n",
      "tornado                           6.0.2   \n",
      "tox                               3.8.4   \n",
      "tqdm                              4.31.1  \n",
      "traitlets                         4.3.2   \n",
      "urllib3                           1.24.1  \n",
      "urwid                             2.0.1   \n",
      "virtualenv                        16.4.3  \n",
      "wcwidth                           0.1.7   \n",
      "webcolors                         1.8.1   \n",
      "webencodings                      0.5.1   \n",
      "wheel                             0.33.1  \n",
      "widgetsnbextension                3.4.2   \n"
     ]
    }
   ],
   "source": [
    "!pip list installed"
   ]
  },
  {
   "cell_type": "code",
   "execution_count": null,
   "metadata": {},
   "outputs": [],
   "source": []
  }
 ],
 "metadata": {
  "kernelspec": {
   "display_name": "Python 3",
   "language": "python",
   "name": "python3"
  },
  "language_info": {
   "codemirror_mode": {
    "name": "ipython",
    "version": 3
   },
   "file_extension": ".py",
   "mimetype": "text/x-python",
   "name": "python",
   "nbconvert_exporter": "python",
   "pygments_lexer": "ipython3",
   "version": "3.7.2"
  }
 },
 "nbformat": 4,
 "nbformat_minor": 2
}
